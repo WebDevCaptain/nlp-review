{
  "nbformat": 4,
  "nbformat_minor": 0,
  "metadata": {
    "colab": {
      "provenance": [],
      "gpuType": "T4"
    },
    "kernelspec": {
      "name": "python3",
      "display_name": "Python 3"
    },
    "language_info": {
      "name": "python"
    },
    "accelerator": "GPU"
  },
  "cells": [
    {
      "cell_type": "markdown",
      "source": [
        "# Text Classification With Spacy\n",
        "\n",
        "> Binary Classification i.e recommended vs non-recommended classes\n",
        "\n",
        "1.  The classifier will detect recommended vs non-recommended video games.\n",
        "\n",
        "2.  Training data: steam reviews\n",
        "\n",
        "3.  Uses: to calculate the most recommended games\n"
      ],
      "metadata": {
        "id": "K8K9a5Ax9H4q"
      }
    },
    {
      "cell_type": "markdown",
      "source": [
        "## Exploratory Data Analysis"
      ],
      "metadata": {
        "id": "0IaPjBMJ_oUA"
      }
    },
    {
      "cell_type": "code",
      "execution_count": 1,
      "metadata": {
        "colab": {
          "base_uri": "https://localhost:8080/",
          "height": 206
        },
        "id": "FqGDws3j865p",
        "outputId": "d016a77e-6a52-40c6-e8b2-75c88a6e9edb"
      },
      "outputs": [
        {
          "output_type": "execute_result",
          "data": {
            "text/plain": [
              "   review_id                        title    year  \\\n",
              "0          1  Spooky's Jump Scare Mansion  2016.0   \n",
              "1          2  Spooky's Jump Scare Mansion  2016.0   \n",
              "2          3  Spooky's Jump Scare Mansion  2016.0   \n",
              "3          4  Spooky's Jump Scare Mansion  2015.0   \n",
              "4          5  Spooky's Jump Scare Mansion  2015.0   \n",
              "\n",
              "                                         user_review  user_suggestion  \n",
              "0  I'm scared and hearing creepy voices.  So I'll...                1  \n",
              "1  Best game, more better than Sam Pepper's YouTu...                1  \n",
              "2  A littly iffy on the controls, but once you kn...                1  \n",
              "3  Great game, fun and colorful and all that.A si...                1  \n",
              "4  Not many games have the cute tag right next to...                1  "
            ],
            "text/html": [
              "\n",
              "  <div id=\"df-2e79fc40-c93c-4ec0-a118-6e11a31f0832\" class=\"colab-df-container\">\n",
              "    <div>\n",
              "<style scoped>\n",
              "    .dataframe tbody tr th:only-of-type {\n",
              "        vertical-align: middle;\n",
              "    }\n",
              "\n",
              "    .dataframe tbody tr th {\n",
              "        vertical-align: top;\n",
              "    }\n",
              "\n",
              "    .dataframe thead th {\n",
              "        text-align: right;\n",
              "    }\n",
              "</style>\n",
              "<table border=\"1\" class=\"dataframe\">\n",
              "  <thead>\n",
              "    <tr style=\"text-align: right;\">\n",
              "      <th></th>\n",
              "      <th>review_id</th>\n",
              "      <th>title</th>\n",
              "      <th>year</th>\n",
              "      <th>user_review</th>\n",
              "      <th>user_suggestion</th>\n",
              "    </tr>\n",
              "  </thead>\n",
              "  <tbody>\n",
              "    <tr>\n",
              "      <th>0</th>\n",
              "      <td>1</td>\n",
              "      <td>Spooky's Jump Scare Mansion</td>\n",
              "      <td>2016.0</td>\n",
              "      <td>I'm scared and hearing creepy voices.  So I'll...</td>\n",
              "      <td>1</td>\n",
              "    </tr>\n",
              "    <tr>\n",
              "      <th>1</th>\n",
              "      <td>2</td>\n",
              "      <td>Spooky's Jump Scare Mansion</td>\n",
              "      <td>2016.0</td>\n",
              "      <td>Best game, more better than Sam Pepper's YouTu...</td>\n",
              "      <td>1</td>\n",
              "    </tr>\n",
              "    <tr>\n",
              "      <th>2</th>\n",
              "      <td>3</td>\n",
              "      <td>Spooky's Jump Scare Mansion</td>\n",
              "      <td>2016.0</td>\n",
              "      <td>A littly iffy on the controls, but once you kn...</td>\n",
              "      <td>1</td>\n",
              "    </tr>\n",
              "    <tr>\n",
              "      <th>3</th>\n",
              "      <td>4</td>\n",
              "      <td>Spooky's Jump Scare Mansion</td>\n",
              "      <td>2015.0</td>\n",
              "      <td>Great game, fun and colorful and all that.A si...</td>\n",
              "      <td>1</td>\n",
              "    </tr>\n",
              "    <tr>\n",
              "      <th>4</th>\n",
              "      <td>5</td>\n",
              "      <td>Spooky's Jump Scare Mansion</td>\n",
              "      <td>2015.0</td>\n",
              "      <td>Not many games have the cute tag right next to...</td>\n",
              "      <td>1</td>\n",
              "    </tr>\n",
              "  </tbody>\n",
              "</table>\n",
              "</div>\n",
              "    <div class=\"colab-df-buttons\">\n",
              "\n",
              "  <div class=\"colab-df-container\">\n",
              "    <button class=\"colab-df-convert\" onclick=\"convertToInteractive('df-2e79fc40-c93c-4ec0-a118-6e11a31f0832')\"\n",
              "            title=\"Convert this dataframe to an interactive table.\"\n",
              "            style=\"display:none;\">\n",
              "\n",
              "  <svg xmlns=\"http://www.w3.org/2000/svg\" height=\"24px\" viewBox=\"0 -960 960 960\">\n",
              "    <path d=\"M120-120v-720h720v720H120Zm60-500h600v-160H180v160Zm220 220h160v-160H400v160Zm0 220h160v-160H400v160ZM180-400h160v-160H180v160Zm440 0h160v-160H620v160ZM180-180h160v-160H180v160Zm440 0h160v-160H620v160Z\"/>\n",
              "  </svg>\n",
              "    </button>\n",
              "\n",
              "  <style>\n",
              "    .colab-df-container {\n",
              "      display:flex;\n",
              "      gap: 12px;\n",
              "    }\n",
              "\n",
              "    .colab-df-convert {\n",
              "      background-color: #E8F0FE;\n",
              "      border: none;\n",
              "      border-radius: 50%;\n",
              "      cursor: pointer;\n",
              "      display: none;\n",
              "      fill: #1967D2;\n",
              "      height: 32px;\n",
              "      padding: 0 0 0 0;\n",
              "      width: 32px;\n",
              "    }\n",
              "\n",
              "    .colab-df-convert:hover {\n",
              "      background-color: #E2EBFA;\n",
              "      box-shadow: 0px 1px 2px rgba(60, 64, 67, 0.3), 0px 1px 3px 1px rgba(60, 64, 67, 0.15);\n",
              "      fill: #174EA6;\n",
              "    }\n",
              "\n",
              "    .colab-df-buttons div {\n",
              "      margin-bottom: 4px;\n",
              "    }\n",
              "\n",
              "    [theme=dark] .colab-df-convert {\n",
              "      background-color: #3B4455;\n",
              "      fill: #D2E3FC;\n",
              "    }\n",
              "\n",
              "    [theme=dark] .colab-df-convert:hover {\n",
              "      background-color: #434B5C;\n",
              "      box-shadow: 0px 1px 3px 1px rgba(0, 0, 0, 0.15);\n",
              "      filter: drop-shadow(0px 1px 2px rgba(0, 0, 0, 0.3));\n",
              "      fill: #FFFFFF;\n",
              "    }\n",
              "  </style>\n",
              "\n",
              "    <script>\n",
              "      const buttonEl =\n",
              "        document.querySelector('#df-2e79fc40-c93c-4ec0-a118-6e11a31f0832 button.colab-df-convert');\n",
              "      buttonEl.style.display =\n",
              "        google.colab.kernel.accessAllowed ? 'block' : 'none';\n",
              "\n",
              "      async function convertToInteractive(key) {\n",
              "        const element = document.querySelector('#df-2e79fc40-c93c-4ec0-a118-6e11a31f0832');\n",
              "        const dataTable =\n",
              "          await google.colab.kernel.invokeFunction('convertToInteractive',\n",
              "                                                    [key], {});\n",
              "        if (!dataTable) return;\n",
              "\n",
              "        const docLinkHtml = 'Like what you see? Visit the ' +\n",
              "          '<a target=\"_blank\" href=https://colab.research.google.com/notebooks/data_table.ipynb>data table notebook</a>'\n",
              "          + ' to learn more about interactive tables.';\n",
              "        element.innerHTML = '';\n",
              "        dataTable['output_type'] = 'display_data';\n",
              "        await google.colab.output.renderOutput(dataTable, element);\n",
              "        const docLink = document.createElement('div');\n",
              "        docLink.innerHTML = docLinkHtml;\n",
              "        element.appendChild(docLink);\n",
              "      }\n",
              "    </script>\n",
              "  </div>\n",
              "\n",
              "\n",
              "<div id=\"df-125e22a2-3cce-4e9b-bbc3-0165b894489a\">\n",
              "  <button class=\"colab-df-quickchart\" onclick=\"quickchart('df-125e22a2-3cce-4e9b-bbc3-0165b894489a')\"\n",
              "            title=\"Suggest charts\"\n",
              "            style=\"display:none;\">\n",
              "\n",
              "<svg xmlns=\"http://www.w3.org/2000/svg\" height=\"24px\"viewBox=\"0 0 24 24\"\n",
              "     width=\"24px\">\n",
              "    <g>\n",
              "        <path d=\"M19 3H5c-1.1 0-2 .9-2 2v14c0 1.1.9 2 2 2h14c1.1 0 2-.9 2-2V5c0-1.1-.9-2-2-2zM9 17H7v-7h2v7zm4 0h-2V7h2v10zm4 0h-2v-4h2v4z\"/>\n",
              "    </g>\n",
              "</svg>\n",
              "  </button>\n",
              "\n",
              "<style>\n",
              "  .colab-df-quickchart {\n",
              "      --bg-color: #E8F0FE;\n",
              "      --fill-color: #1967D2;\n",
              "      --hover-bg-color: #E2EBFA;\n",
              "      --hover-fill-color: #174EA6;\n",
              "      --disabled-fill-color: #AAA;\n",
              "      --disabled-bg-color: #DDD;\n",
              "  }\n",
              "\n",
              "  [theme=dark] .colab-df-quickchart {\n",
              "      --bg-color: #3B4455;\n",
              "      --fill-color: #D2E3FC;\n",
              "      --hover-bg-color: #434B5C;\n",
              "      --hover-fill-color: #FFFFFF;\n",
              "      --disabled-bg-color: #3B4455;\n",
              "      --disabled-fill-color: #666;\n",
              "  }\n",
              "\n",
              "  .colab-df-quickchart {\n",
              "    background-color: var(--bg-color);\n",
              "    border: none;\n",
              "    border-radius: 50%;\n",
              "    cursor: pointer;\n",
              "    display: none;\n",
              "    fill: var(--fill-color);\n",
              "    height: 32px;\n",
              "    padding: 0;\n",
              "    width: 32px;\n",
              "  }\n",
              "\n",
              "  .colab-df-quickchart:hover {\n",
              "    background-color: var(--hover-bg-color);\n",
              "    box-shadow: 0 1px 2px rgba(60, 64, 67, 0.3), 0 1px 3px 1px rgba(60, 64, 67, 0.15);\n",
              "    fill: var(--button-hover-fill-color);\n",
              "  }\n",
              "\n",
              "  .colab-df-quickchart-complete:disabled,\n",
              "  .colab-df-quickchart-complete:disabled:hover {\n",
              "    background-color: var(--disabled-bg-color);\n",
              "    fill: var(--disabled-fill-color);\n",
              "    box-shadow: none;\n",
              "  }\n",
              "\n",
              "  .colab-df-spinner {\n",
              "    border: 2px solid var(--fill-color);\n",
              "    border-color: transparent;\n",
              "    border-bottom-color: var(--fill-color);\n",
              "    animation:\n",
              "      spin 1s steps(1) infinite;\n",
              "  }\n",
              "\n",
              "  @keyframes spin {\n",
              "    0% {\n",
              "      border-color: transparent;\n",
              "      border-bottom-color: var(--fill-color);\n",
              "      border-left-color: var(--fill-color);\n",
              "    }\n",
              "    20% {\n",
              "      border-color: transparent;\n",
              "      border-left-color: var(--fill-color);\n",
              "      border-top-color: var(--fill-color);\n",
              "    }\n",
              "    30% {\n",
              "      border-color: transparent;\n",
              "      border-left-color: var(--fill-color);\n",
              "      border-top-color: var(--fill-color);\n",
              "      border-right-color: var(--fill-color);\n",
              "    }\n",
              "    40% {\n",
              "      border-color: transparent;\n",
              "      border-right-color: var(--fill-color);\n",
              "      border-top-color: var(--fill-color);\n",
              "    }\n",
              "    60% {\n",
              "      border-color: transparent;\n",
              "      border-right-color: var(--fill-color);\n",
              "    }\n",
              "    80% {\n",
              "      border-color: transparent;\n",
              "      border-right-color: var(--fill-color);\n",
              "      border-bottom-color: var(--fill-color);\n",
              "    }\n",
              "    90% {\n",
              "      border-color: transparent;\n",
              "      border-bottom-color: var(--fill-color);\n",
              "    }\n",
              "  }\n",
              "</style>\n",
              "\n",
              "  <script>\n",
              "    async function quickchart(key) {\n",
              "      const quickchartButtonEl =\n",
              "        document.querySelector('#' + key + ' button');\n",
              "      quickchartButtonEl.disabled = true;  // To prevent multiple clicks.\n",
              "      quickchartButtonEl.classList.add('colab-df-spinner');\n",
              "      try {\n",
              "        const charts = await google.colab.kernel.invokeFunction(\n",
              "            'suggestCharts', [key], {});\n",
              "      } catch (error) {\n",
              "        console.error('Error during call to suggestCharts:', error);\n",
              "      }\n",
              "      quickchartButtonEl.classList.remove('colab-df-spinner');\n",
              "      quickchartButtonEl.classList.add('colab-df-quickchart-complete');\n",
              "    }\n",
              "    (() => {\n",
              "      let quickchartButtonEl =\n",
              "        document.querySelector('#df-125e22a2-3cce-4e9b-bbc3-0165b894489a button');\n",
              "      quickchartButtonEl.style.display =\n",
              "        google.colab.kernel.accessAllowed ? 'block' : 'none';\n",
              "    })();\n",
              "  </script>\n",
              "</div>\n",
              "\n",
              "    </div>\n",
              "  </div>\n"
            ],
            "application/vnd.google.colaboratory.intrinsic+json": {
              "type": "dataframe",
              "variable_name": "df",
              "summary": "{\n  \"name\": \"df\",\n  \"rows\": 17494,\n  \"fields\": [\n    {\n      \"column\": \"review_id\",\n      \"properties\": {\n        \"dtype\": \"number\",\n        \"std\": 7653,\n        \"min\": 1,\n        \"max\": 25539,\n        \"num_unique_values\": 17494,\n        \"samples\": [\n          3165,\n          2408,\n          248\n        ],\n        \"semantic_type\": \"\",\n        \"description\": \"\"\n      }\n    },\n    {\n      \"column\": \"title\",\n      \"properties\": {\n        \"dtype\": \"category\",\n        \"num_unique_values\": 44,\n        \"samples\": [\n          \"AdventureQuest 3D\",\n          \"Black Squad\",\n          \"Freestyle 2: Street Basketball\"\n        ],\n        \"semantic_type\": \"\",\n        \"description\": \"\"\n      }\n    },\n    {\n      \"column\": \"year\",\n      \"properties\": {\n        \"dtype\": \"number\",\n        \"std\": 1.3903558077762443,\n        \"min\": 2011.0,\n        \"max\": 2018.0,\n        \"num_unique_values\": 8,\n        \"samples\": [\n          2015.0,\n          2012.0,\n          2016.0\n        ],\n        \"semantic_type\": \"\",\n        \"description\": \"\"\n      }\n    },\n    {\n      \"column\": \"user_review\",\n      \"properties\": {\n        \"dtype\": \"string\",\n        \"num_unique_values\": 17490,\n        \"samples\": [\n          \"\\u2665\\u2665\\u2665\\u2665 this game. It's gorgeous and addicting. The grind is extreamly long and many of the vehicles aren't balanced or historically accurate. The models in the game are amazing looking as is the customization. The game is massively frustrating as many people (not just I) go round after round of being killed to never achieve anything. I once played 10 rounds in a row of just being slaughtered, no kills, no captures. Being sniped from accrosed the map in Tier 2-3 games before I could even do anything. I want so hard to like and enjoy this game and it instead makes me want to throw my monitor acrossed the room. To counter point, I have had rounds with many kills and capturess, they're just few and far between. Having played most FPS' since the early 90's, I'm experienced enough to know when a game just isn't worth playing. Sorry War Thunder, I'm done with you.\",\n          \"If you want to make new games every 6 months then do that, but kindly leave the rest of us the game we PAID MONEY to play ! To say that I am\\u00e2\\u2122\\u00a5\\u00e2\\u2122\\u00a5\\u00e2\\u2122\\u00a5\\u00e2\\u2122\\u00a5\\u00e2\\u2122\\u00a5\\u00e2\\u2122\\u00a5\\u00e2\\u2122\\u00a5\\u00e2\\u2122\\u00a5off is an understatement. I did not tolerate the god complex of the blizzard crowd and I think you \\u00e2\\u2122\\u00a5\\u00e2\\u2122\\u00a5\\u00e2\\u2122\\u00a5\\u00e2\\u2122\\u00a5\\u00e2\\u2122\\u00a5\\u00e2\\u2122\\u00a5\\u00e2\\u2122\\u00a5s are worse. It is bad enough that your drops suck and are not compensatory or equitable with the loss of experience or the difficulty of the fights, but having to remember, re-evaluate and redistribute skill tree points evey 6 months is intolerable. I play games to relax not to spend my time trying to remember how I got the character to survive or to follow some other \\u00e2\\u2122\\u00a5\\u00e2\\u2122\\u00a5\\u00e2\\u2122\\u00a5\\u00e2\\u2122\\u00a5\\u00e2\\u2122\\u00a5\\u00e2\\u2122\\u00a5\\u00e2\\u2122\\u00a5s build!. I just spent an hour,  I could have spent playing, trying to get 2 of my characters back. but then I thought, I still CAN\\\"T STAND what you idiots did to game the last time you did this, so why am I trying ?! I am almost positive that I am NOT going to like your stupid \\\"DELVE\\\" crap either, and if I were to get my characters back, 6 months from now you're going to do the same\\u00e2\\u2122\\u00a5\\u00e2\\u2122\\u00a5\\u00e2\\u2122\\u00a5\\u00e2\\u2122\\u00a5\\u00e2\\u2122\\u00a5\\u00e2\\u2122\\u00a5AGAIN!!!!!!!   GIVE ME  MY MONEY BACK!!!\",\n          \"Early Access ReviewWow, I can't say enough about this game.  Simple to learn, graphics are pretty basic but still get the scares across and the sound track works with the game.  The timing for the jump scares is great.  They get you into a false sense of security then out of nowhere whamo.  Then later in the game as the spicimens are chasing you the jump scares are so much worse.  Yet we all keep coming back for more?  Great game and the price is better.  I would gladly have paid $10 for this game, however it was FREE!  1000 rooms, jump scares and a great story too?  Can't beat it with Michael Jackson's dead hand.\"\n        ],\n        \"semantic_type\": \"\",\n        \"description\": \"\"\n      }\n    },\n    {\n      \"column\": \"user_suggestion\",\n      \"properties\": {\n        \"dtype\": \"number\",\n        \"std\": 0,\n        \"min\": 0,\n        \"max\": 1,\n        \"num_unique_values\": 2,\n        \"samples\": [\n          0,\n          1\n        ],\n        \"semantic_type\": \"\",\n        \"description\": \"\"\n      }\n    }\n  ]\n}"
            }
          },
          "metadata": {},
          "execution_count": 1
        }
      ],
      "source": [
        "import pandas as pd\n",
        "\n",
        "steam_reviews_link = \"https://gitlab.com/webdevcaptain/nlp-review/-/raw/main/data/steam-reviews.csv?ref_type=heads\"\n",
        "\n",
        "df = pd.read_csv(steam_reviews_link)\n",
        "\n",
        "df.head()"
      ]
    },
    {
      "cell_type": "code",
      "source": [
        "df.info()"
      ],
      "metadata": {
        "colab": {
          "base_uri": "https://localhost:8080/"
        },
        "id": "_2F1fu8H_O17",
        "outputId": "89e37a67-2e1e-4888-e2e2-5d583b45cd18"
      },
      "execution_count": 2,
      "outputs": [
        {
          "output_type": "stream",
          "name": "stdout",
          "text": [
            "<class 'pandas.core.frame.DataFrame'>\n",
            "RangeIndex: 17494 entries, 0 to 17493\n",
            "Data columns (total 5 columns):\n",
            " #   Column           Non-Null Count  Dtype  \n",
            "---  ------           --------------  -----  \n",
            " 0   review_id        17494 non-null  int64  \n",
            " 1   title            17494 non-null  object \n",
            " 2   year             17316 non-null  float64\n",
            " 3   user_review      17494 non-null  object \n",
            " 4   user_suggestion  17494 non-null  int64  \n",
            "dtypes: float64(1), int64(2), object(2)\n",
            "memory usage: 683.5+ KB\n"
          ]
        }
      ]
    },
    {
      "cell_type": "code",
      "source": [
        "df.isnull().sum()"
      ],
      "metadata": {
        "colab": {
          "base_uri": "https://localhost:8080/",
          "height": 241
        },
        "id": "yhX9Pj-X_SBe",
        "outputId": "5438ba8a-ddb0-4499-e7f6-cb1892c36e92"
      },
      "execution_count": 3,
      "outputs": [
        {
          "output_type": "execute_result",
          "data": {
            "text/plain": [
              "review_id            0\n",
              "title                0\n",
              "year               178\n",
              "user_review          0\n",
              "user_suggestion      0\n",
              "dtype: int64"
            ],
            "text/html": [
              "<div>\n",
              "<style scoped>\n",
              "    .dataframe tbody tr th:only-of-type {\n",
              "        vertical-align: middle;\n",
              "    }\n",
              "\n",
              "    .dataframe tbody tr th {\n",
              "        vertical-align: top;\n",
              "    }\n",
              "\n",
              "    .dataframe thead th {\n",
              "        text-align: right;\n",
              "    }\n",
              "</style>\n",
              "<table border=\"1\" class=\"dataframe\">\n",
              "  <thead>\n",
              "    <tr style=\"text-align: right;\">\n",
              "      <th></th>\n",
              "      <th>0</th>\n",
              "    </tr>\n",
              "  </thead>\n",
              "  <tbody>\n",
              "    <tr>\n",
              "      <th>review_id</th>\n",
              "      <td>0</td>\n",
              "    </tr>\n",
              "    <tr>\n",
              "      <th>title</th>\n",
              "      <td>0</td>\n",
              "    </tr>\n",
              "    <tr>\n",
              "      <th>year</th>\n",
              "      <td>178</td>\n",
              "    </tr>\n",
              "    <tr>\n",
              "      <th>user_review</th>\n",
              "      <td>0</td>\n",
              "    </tr>\n",
              "    <tr>\n",
              "      <th>user_suggestion</th>\n",
              "      <td>0</td>\n",
              "    </tr>\n",
              "  </tbody>\n",
              "</table>\n",
              "</div><br><label><b>dtype:</b> int64</label>"
            ]
          },
          "metadata": {},
          "execution_count": 3
        }
      ]
    },
    {
      "cell_type": "code",
      "source": [
        "# Extract out just the useful data points for our sentiment analysis\n",
        "\n",
        "df = df[['user_review', 'user_suggestion']].dropna()\n",
        "\n",
        "df.head()"
      ],
      "metadata": {
        "colab": {
          "base_uri": "https://localhost:8080/",
          "height": 206
        },
        "id": "Ee9a4Rzv_uCp",
        "outputId": "34da76ce-2528-4532-ab37-628eacf09c1e"
      },
      "execution_count": 4,
      "outputs": [
        {
          "output_type": "execute_result",
          "data": {
            "text/plain": [
              "                                         user_review  user_suggestion\n",
              "0  I'm scared and hearing creepy voices.  So I'll...                1\n",
              "1  Best game, more better than Sam Pepper's YouTu...                1\n",
              "2  A littly iffy on the controls, but once you kn...                1\n",
              "3  Great game, fun and colorful and all that.A si...                1\n",
              "4  Not many games have the cute tag right next to...                1"
            ],
            "text/html": [
              "\n",
              "  <div id=\"df-9ead044b-f2b9-4ff6-8f3e-7230b431097a\" class=\"colab-df-container\">\n",
              "    <div>\n",
              "<style scoped>\n",
              "    .dataframe tbody tr th:only-of-type {\n",
              "        vertical-align: middle;\n",
              "    }\n",
              "\n",
              "    .dataframe tbody tr th {\n",
              "        vertical-align: top;\n",
              "    }\n",
              "\n",
              "    .dataframe thead th {\n",
              "        text-align: right;\n",
              "    }\n",
              "</style>\n",
              "<table border=\"1\" class=\"dataframe\">\n",
              "  <thead>\n",
              "    <tr style=\"text-align: right;\">\n",
              "      <th></th>\n",
              "      <th>user_review</th>\n",
              "      <th>user_suggestion</th>\n",
              "    </tr>\n",
              "  </thead>\n",
              "  <tbody>\n",
              "    <tr>\n",
              "      <th>0</th>\n",
              "      <td>I'm scared and hearing creepy voices.  So I'll...</td>\n",
              "      <td>1</td>\n",
              "    </tr>\n",
              "    <tr>\n",
              "      <th>1</th>\n",
              "      <td>Best game, more better than Sam Pepper's YouTu...</td>\n",
              "      <td>1</td>\n",
              "    </tr>\n",
              "    <tr>\n",
              "      <th>2</th>\n",
              "      <td>A littly iffy on the controls, but once you kn...</td>\n",
              "      <td>1</td>\n",
              "    </tr>\n",
              "    <tr>\n",
              "      <th>3</th>\n",
              "      <td>Great game, fun and colorful and all that.A si...</td>\n",
              "      <td>1</td>\n",
              "    </tr>\n",
              "    <tr>\n",
              "      <th>4</th>\n",
              "      <td>Not many games have the cute tag right next to...</td>\n",
              "      <td>1</td>\n",
              "    </tr>\n",
              "  </tbody>\n",
              "</table>\n",
              "</div>\n",
              "    <div class=\"colab-df-buttons\">\n",
              "\n",
              "  <div class=\"colab-df-container\">\n",
              "    <button class=\"colab-df-convert\" onclick=\"convertToInteractive('df-9ead044b-f2b9-4ff6-8f3e-7230b431097a')\"\n",
              "            title=\"Convert this dataframe to an interactive table.\"\n",
              "            style=\"display:none;\">\n",
              "\n",
              "  <svg xmlns=\"http://www.w3.org/2000/svg\" height=\"24px\" viewBox=\"0 -960 960 960\">\n",
              "    <path d=\"M120-120v-720h720v720H120Zm60-500h600v-160H180v160Zm220 220h160v-160H400v160Zm0 220h160v-160H400v160ZM180-400h160v-160H180v160Zm440 0h160v-160H620v160ZM180-180h160v-160H180v160Zm440 0h160v-160H620v160Z\"/>\n",
              "  </svg>\n",
              "    </button>\n",
              "\n",
              "  <style>\n",
              "    .colab-df-container {\n",
              "      display:flex;\n",
              "      gap: 12px;\n",
              "    }\n",
              "\n",
              "    .colab-df-convert {\n",
              "      background-color: #E8F0FE;\n",
              "      border: none;\n",
              "      border-radius: 50%;\n",
              "      cursor: pointer;\n",
              "      display: none;\n",
              "      fill: #1967D2;\n",
              "      height: 32px;\n",
              "      padding: 0 0 0 0;\n",
              "      width: 32px;\n",
              "    }\n",
              "\n",
              "    .colab-df-convert:hover {\n",
              "      background-color: #E2EBFA;\n",
              "      box-shadow: 0px 1px 2px rgba(60, 64, 67, 0.3), 0px 1px 3px 1px rgba(60, 64, 67, 0.15);\n",
              "      fill: #174EA6;\n",
              "    }\n",
              "\n",
              "    .colab-df-buttons div {\n",
              "      margin-bottom: 4px;\n",
              "    }\n",
              "\n",
              "    [theme=dark] .colab-df-convert {\n",
              "      background-color: #3B4455;\n",
              "      fill: #D2E3FC;\n",
              "    }\n",
              "\n",
              "    [theme=dark] .colab-df-convert:hover {\n",
              "      background-color: #434B5C;\n",
              "      box-shadow: 0px 1px 3px 1px rgba(0, 0, 0, 0.15);\n",
              "      filter: drop-shadow(0px 1px 2px rgba(0, 0, 0, 0.3));\n",
              "      fill: #FFFFFF;\n",
              "    }\n",
              "  </style>\n",
              "\n",
              "    <script>\n",
              "      const buttonEl =\n",
              "        document.querySelector('#df-9ead044b-f2b9-4ff6-8f3e-7230b431097a button.colab-df-convert');\n",
              "      buttonEl.style.display =\n",
              "        google.colab.kernel.accessAllowed ? 'block' : 'none';\n",
              "\n",
              "      async function convertToInteractive(key) {\n",
              "        const element = document.querySelector('#df-9ead044b-f2b9-4ff6-8f3e-7230b431097a');\n",
              "        const dataTable =\n",
              "          await google.colab.kernel.invokeFunction('convertToInteractive',\n",
              "                                                    [key], {});\n",
              "        if (!dataTable) return;\n",
              "\n",
              "        const docLinkHtml = 'Like what you see? Visit the ' +\n",
              "          '<a target=\"_blank\" href=https://colab.research.google.com/notebooks/data_table.ipynb>data table notebook</a>'\n",
              "          + ' to learn more about interactive tables.';\n",
              "        element.innerHTML = '';\n",
              "        dataTable['output_type'] = 'display_data';\n",
              "        await google.colab.output.renderOutput(dataTable, element);\n",
              "        const docLink = document.createElement('div');\n",
              "        docLink.innerHTML = docLinkHtml;\n",
              "        element.appendChild(docLink);\n",
              "      }\n",
              "    </script>\n",
              "  </div>\n",
              "\n",
              "\n",
              "<div id=\"df-72093d9f-36e2-440c-90b1-041b2c47d06c\">\n",
              "  <button class=\"colab-df-quickchart\" onclick=\"quickchart('df-72093d9f-36e2-440c-90b1-041b2c47d06c')\"\n",
              "            title=\"Suggest charts\"\n",
              "            style=\"display:none;\">\n",
              "\n",
              "<svg xmlns=\"http://www.w3.org/2000/svg\" height=\"24px\"viewBox=\"0 0 24 24\"\n",
              "     width=\"24px\">\n",
              "    <g>\n",
              "        <path d=\"M19 3H5c-1.1 0-2 .9-2 2v14c0 1.1.9 2 2 2h14c1.1 0 2-.9 2-2V5c0-1.1-.9-2-2-2zM9 17H7v-7h2v7zm4 0h-2V7h2v10zm4 0h-2v-4h2v4z\"/>\n",
              "    </g>\n",
              "</svg>\n",
              "  </button>\n",
              "\n",
              "<style>\n",
              "  .colab-df-quickchart {\n",
              "      --bg-color: #E8F0FE;\n",
              "      --fill-color: #1967D2;\n",
              "      --hover-bg-color: #E2EBFA;\n",
              "      --hover-fill-color: #174EA6;\n",
              "      --disabled-fill-color: #AAA;\n",
              "      --disabled-bg-color: #DDD;\n",
              "  }\n",
              "\n",
              "  [theme=dark] .colab-df-quickchart {\n",
              "      --bg-color: #3B4455;\n",
              "      --fill-color: #D2E3FC;\n",
              "      --hover-bg-color: #434B5C;\n",
              "      --hover-fill-color: #FFFFFF;\n",
              "      --disabled-bg-color: #3B4455;\n",
              "      --disabled-fill-color: #666;\n",
              "  }\n",
              "\n",
              "  .colab-df-quickchart {\n",
              "    background-color: var(--bg-color);\n",
              "    border: none;\n",
              "    border-radius: 50%;\n",
              "    cursor: pointer;\n",
              "    display: none;\n",
              "    fill: var(--fill-color);\n",
              "    height: 32px;\n",
              "    padding: 0;\n",
              "    width: 32px;\n",
              "  }\n",
              "\n",
              "  .colab-df-quickchart:hover {\n",
              "    background-color: var(--hover-bg-color);\n",
              "    box-shadow: 0 1px 2px rgba(60, 64, 67, 0.3), 0 1px 3px 1px rgba(60, 64, 67, 0.15);\n",
              "    fill: var(--button-hover-fill-color);\n",
              "  }\n",
              "\n",
              "  .colab-df-quickchart-complete:disabled,\n",
              "  .colab-df-quickchart-complete:disabled:hover {\n",
              "    background-color: var(--disabled-bg-color);\n",
              "    fill: var(--disabled-fill-color);\n",
              "    box-shadow: none;\n",
              "  }\n",
              "\n",
              "  .colab-df-spinner {\n",
              "    border: 2px solid var(--fill-color);\n",
              "    border-color: transparent;\n",
              "    border-bottom-color: var(--fill-color);\n",
              "    animation:\n",
              "      spin 1s steps(1) infinite;\n",
              "  }\n",
              "\n",
              "  @keyframes spin {\n",
              "    0% {\n",
              "      border-color: transparent;\n",
              "      border-bottom-color: var(--fill-color);\n",
              "      border-left-color: var(--fill-color);\n",
              "    }\n",
              "    20% {\n",
              "      border-color: transparent;\n",
              "      border-left-color: var(--fill-color);\n",
              "      border-top-color: var(--fill-color);\n",
              "    }\n",
              "    30% {\n",
              "      border-color: transparent;\n",
              "      border-left-color: var(--fill-color);\n",
              "      border-top-color: var(--fill-color);\n",
              "      border-right-color: var(--fill-color);\n",
              "    }\n",
              "    40% {\n",
              "      border-color: transparent;\n",
              "      border-right-color: var(--fill-color);\n",
              "      border-top-color: var(--fill-color);\n",
              "    }\n",
              "    60% {\n",
              "      border-color: transparent;\n",
              "      border-right-color: var(--fill-color);\n",
              "    }\n",
              "    80% {\n",
              "      border-color: transparent;\n",
              "      border-right-color: var(--fill-color);\n",
              "      border-bottom-color: var(--fill-color);\n",
              "    }\n",
              "    90% {\n",
              "      border-color: transparent;\n",
              "      border-bottom-color: var(--fill-color);\n",
              "    }\n",
              "  }\n",
              "</style>\n",
              "\n",
              "  <script>\n",
              "    async function quickchart(key) {\n",
              "      const quickchartButtonEl =\n",
              "        document.querySelector('#' + key + ' button');\n",
              "      quickchartButtonEl.disabled = true;  // To prevent multiple clicks.\n",
              "      quickchartButtonEl.classList.add('colab-df-spinner');\n",
              "      try {\n",
              "        const charts = await google.colab.kernel.invokeFunction(\n",
              "            'suggestCharts', [key], {});\n",
              "      } catch (error) {\n",
              "        console.error('Error during call to suggestCharts:', error);\n",
              "      }\n",
              "      quickchartButtonEl.classList.remove('colab-df-spinner');\n",
              "      quickchartButtonEl.classList.add('colab-df-quickchart-complete');\n",
              "    }\n",
              "    (() => {\n",
              "      let quickchartButtonEl =\n",
              "        document.querySelector('#df-72093d9f-36e2-440c-90b1-041b2c47d06c button');\n",
              "      quickchartButtonEl.style.display =\n",
              "        google.colab.kernel.accessAllowed ? 'block' : 'none';\n",
              "    })();\n",
              "  </script>\n",
              "</div>\n",
              "\n",
              "    </div>\n",
              "  </div>\n"
            ],
            "application/vnd.google.colaboratory.intrinsic+json": {
              "type": "dataframe",
              "variable_name": "df",
              "summary": "{\n  \"name\": \"df\",\n  \"rows\": 17494,\n  \"fields\": [\n    {\n      \"column\": \"user_review\",\n      \"properties\": {\n        \"dtype\": \"string\",\n        \"num_unique_values\": 17490,\n        \"samples\": [\n          \"\\u2665\\u2665\\u2665\\u2665 this game. It's gorgeous and addicting. The grind is extreamly long and many of the vehicles aren't balanced or historically accurate. The models in the game are amazing looking as is the customization. The game is massively frustrating as many people (not just I) go round after round of being killed to never achieve anything. I once played 10 rounds in a row of just being slaughtered, no kills, no captures. Being sniped from accrosed the map in Tier 2-3 games before I could even do anything. I want so hard to like and enjoy this game and it instead makes me want to throw my monitor acrossed the room. To counter point, I have had rounds with many kills and capturess, they're just few and far between. Having played most FPS' since the early 90's, I'm experienced enough to know when a game just isn't worth playing. Sorry War Thunder, I'm done with you.\",\n          \"If you want to make new games every 6 months then do that, but kindly leave the rest of us the game we PAID MONEY to play ! To say that I am\\u00e2\\u2122\\u00a5\\u00e2\\u2122\\u00a5\\u00e2\\u2122\\u00a5\\u00e2\\u2122\\u00a5\\u00e2\\u2122\\u00a5\\u00e2\\u2122\\u00a5\\u00e2\\u2122\\u00a5\\u00e2\\u2122\\u00a5off is an understatement. I did not tolerate the god complex of the blizzard crowd and I think you \\u00e2\\u2122\\u00a5\\u00e2\\u2122\\u00a5\\u00e2\\u2122\\u00a5\\u00e2\\u2122\\u00a5\\u00e2\\u2122\\u00a5\\u00e2\\u2122\\u00a5\\u00e2\\u2122\\u00a5s are worse. It is bad enough that your drops suck and are not compensatory or equitable with the loss of experience or the difficulty of the fights, but having to remember, re-evaluate and redistribute skill tree points evey 6 months is intolerable. I play games to relax not to spend my time trying to remember how I got the character to survive or to follow some other \\u00e2\\u2122\\u00a5\\u00e2\\u2122\\u00a5\\u00e2\\u2122\\u00a5\\u00e2\\u2122\\u00a5\\u00e2\\u2122\\u00a5\\u00e2\\u2122\\u00a5\\u00e2\\u2122\\u00a5s build!. I just spent an hour,  I could have spent playing, trying to get 2 of my characters back. but then I thought, I still CAN\\\"T STAND what you idiots did to game the last time you did this, so why am I trying ?! I am almost positive that I am NOT going to like your stupid \\\"DELVE\\\" crap either, and if I were to get my characters back, 6 months from now you're going to do the same\\u00e2\\u2122\\u00a5\\u00e2\\u2122\\u00a5\\u00e2\\u2122\\u00a5\\u00e2\\u2122\\u00a5\\u00e2\\u2122\\u00a5\\u00e2\\u2122\\u00a5AGAIN!!!!!!!   GIVE ME  MY MONEY BACK!!!\",\n          \"Early Access ReviewWow, I can't say enough about this game.  Simple to learn, graphics are pretty basic but still get the scares across and the sound track works with the game.  The timing for the jump scares is great.  They get you into a false sense of security then out of nowhere whamo.  Then later in the game as the spicimens are chasing you the jump scares are so much worse.  Yet we all keep coming back for more?  Great game and the price is better.  I would gladly have paid $10 for this game, however it was FREE!  1000 rooms, jump scares and a great story too?  Can't beat it with Michael Jackson's dead hand.\"\n        ],\n        \"semantic_type\": \"\",\n        \"description\": \"\"\n      }\n    },\n    {\n      \"column\": \"user_suggestion\",\n      \"properties\": {\n        \"dtype\": \"number\",\n        \"std\": 0,\n        \"min\": 0,\n        \"max\": 1,\n        \"num_unique_values\": 2,\n        \"samples\": [\n          0,\n          1\n        ],\n        \"semantic_type\": \"\",\n        \"description\": \"\"\n      }\n    }\n  ]\n}"
            }
          },
          "metadata": {},
          "execution_count": 4
        }
      ]
    },
    {
      "cell_type": "code",
      "source": [
        "df.count()"
      ],
      "metadata": {
        "colab": {
          "base_uri": "https://localhost:8080/",
          "height": 147
        },
        "id": "ROhX0Hq5_7H7",
        "outputId": "e0666b6f-1d03-42f7-f615-cb06722dfc77"
      },
      "execution_count": 5,
      "outputs": [
        {
          "output_type": "execute_result",
          "data": {
            "text/plain": [
              "user_review        17494\n",
              "user_suggestion    17494\n",
              "dtype: int64"
            ],
            "text/html": [
              "<div>\n",
              "<style scoped>\n",
              "    .dataframe tbody tr th:only-of-type {\n",
              "        vertical-align: middle;\n",
              "    }\n",
              "\n",
              "    .dataframe tbody tr th {\n",
              "        vertical-align: top;\n",
              "    }\n",
              "\n",
              "    .dataframe thead th {\n",
              "        text-align: right;\n",
              "    }\n",
              "</style>\n",
              "<table border=\"1\" class=\"dataframe\">\n",
              "  <thead>\n",
              "    <tr style=\"text-align: right;\">\n",
              "      <th></th>\n",
              "      <th>0</th>\n",
              "    </tr>\n",
              "  </thead>\n",
              "  <tbody>\n",
              "    <tr>\n",
              "      <th>user_review</th>\n",
              "      <td>17494</td>\n",
              "    </tr>\n",
              "    <tr>\n",
              "      <th>user_suggestion</th>\n",
              "      <td>17494</td>\n",
              "    </tr>\n",
              "  </tbody>\n",
              "</table>\n",
              "</div><br><label><b>dtype:</b> int64</label>"
            ]
          },
          "metadata": {},
          "execution_count": 5
        }
      ]
    },
    {
      "cell_type": "code",
      "source": [
        "df['user_suggestion'].value_counts() # Binary 💡"
      ],
      "metadata": {
        "colab": {
          "base_uri": "https://localhost:8080/",
          "height": 178
        },
        "id": "qaMcCJm5_-QU",
        "outputId": "aae2ed5a-6525-4a4a-cc73-a7759db62ed6"
      },
      "execution_count": 6,
      "outputs": [
        {
          "output_type": "execute_result",
          "data": {
            "text/plain": [
              "user_suggestion\n",
              "1    9968\n",
              "0    7526\n",
              "Name: count, dtype: int64"
            ],
            "text/html": [
              "<div>\n",
              "<style scoped>\n",
              "    .dataframe tbody tr th:only-of-type {\n",
              "        vertical-align: middle;\n",
              "    }\n",
              "\n",
              "    .dataframe tbody tr th {\n",
              "        vertical-align: top;\n",
              "    }\n",
              "\n",
              "    .dataframe thead th {\n",
              "        text-align: right;\n",
              "    }\n",
              "</style>\n",
              "<table border=\"1\" class=\"dataframe\">\n",
              "  <thead>\n",
              "    <tr style=\"text-align: right;\">\n",
              "      <th></th>\n",
              "      <th>count</th>\n",
              "    </tr>\n",
              "    <tr>\n",
              "      <th>user_suggestion</th>\n",
              "      <th></th>\n",
              "    </tr>\n",
              "  </thead>\n",
              "  <tbody>\n",
              "    <tr>\n",
              "      <th>1</th>\n",
              "      <td>9968</td>\n",
              "    </tr>\n",
              "    <tr>\n",
              "      <th>0</th>\n",
              "      <td>7526</td>\n",
              "    </tr>\n",
              "  </tbody>\n",
              "</table>\n",
              "</div><br><label><b>dtype:</b> int64</label>"
            ]
          },
          "metadata": {},
          "execution_count": 6
        }
      ]
    },
    {
      "cell_type": "markdown",
      "source": [
        "Let's check the data distribution visually"
      ],
      "metadata": {
        "id": "a2C-RTlGAIE6"
      }
    },
    {
      "cell_type": "code",
      "source": [
        "df['user_suggestion'].value_counts().plot(kind='bar');"
      ],
      "metadata": {
        "colab": {
          "base_uri": "https://localhost:8080/",
          "height": 444
        },
        "id": "XmjOcvjkABEj",
        "outputId": "92af8480-9ddf-4dac-81a2-9dfa2c27c9d8"
      },
      "execution_count": 7,
      "outputs": [
        {
          "output_type": "display_data",
          "data": {
            "text/plain": [
              "<Figure size 640x480 with 1 Axes>"
            ],
            "image/png": "[encoded data removed]"
          },
          "metadata": {}
        }
      ]
    },
    {
      "cell_type": "code",
      "source": [
        "!pip install spacy-lookups-data"
      ],
      "metadata": {
        "colab": {
          "base_uri": "https://localhost:8080/"
        },
        "id": "c6xReSSDAK8r",
        "outputId": "6f2ca691-7872-4b24-fff8-999e56633a5c"
      },
      "execution_count": 8,
      "outputs": [
        {
          "output_type": "stream",
          "name": "stdout",
          "text": [
            "Collecting spacy-lookups-data\n",
            "  Downloading spacy_lookups_data-1.0.5-py2.py3-none-any.whl.metadata (4.8 kB)\n",
            "Requirement already satisfied: setuptools in /usr/local/lib/python3.11/dist-packages (from spacy-lookups-data) (75.1.0)\n",
            "Downloading spacy_lookups_data-1.0.5-py2.py3-none-any.whl (98.5 MB)\n",
            "\u001b[2K   \u001b[90m━━━━━━━━━━━━━━━━━━━━━━━━━━━━━━━━━━━━━━━━\u001b[0m \u001b[32m98.5/98.5 MB\u001b[0m \u001b[31m8.9 MB/s\u001b[0m eta \u001b[36m0:00:00\u001b[0m\n",
            "\u001b[?25hInstalling collected packages: spacy-lookups-data\n",
            "Successfully installed spacy-lookups-data-1.0.5\n"
          ]
        }
      ]
    },
    {
      "cell_type": "markdown",
      "source": [
        "## Spacy pipeline for Text classification"
      ],
      "metadata": {
        "id": "_49q2Td_AjEs"
      }
    },
    {
      "cell_type": "code",
      "source": [
        "import spacy\n",
        "\n",
        "spacy.__version__"
      ],
      "metadata": {
        "colab": {
          "base_uri": "https://localhost:8080/",
          "height": 35
        },
        "id": "KCkU89cCAeia",
        "outputId": "35797e1b-8195-4be6-b8ee-1eda198dbc19"
      },
      "execution_count": 9,
      "outputs": [
        {
          "output_type": "execute_result",
          "data": {
            "text/plain": [
              "'3.7.5'"
            ],
            "application/vnd.google.colaboratory.intrinsic+json": {
              "type": "string"
            }
          },
          "metadata": {},
          "execution_count": 9
        }
      ]
    },
    {
      "cell_type": "code",
      "source": [
        "nlp = spacy.load(\"en_core_web_sm\")"
      ],
      "metadata": {
        "id": "ymGMWCODAovp"
      },
      "execution_count": 10,
      "outputs": []
    },
    {
      "cell_type": "code",
      "source": [
        "from spacy.lookups import Lookups\n",
        "\n",
        "lookups = Lookups()\n",
        "lookups.add_table(\"lexeme_norm\", {})  # add required lookup tables\n",
        "\n",
        "nlp.vocab.lookups = lookups"
      ],
      "metadata": {
        "id": "ow08vTnsAUyD"
      },
      "execution_count": 11,
      "outputs": []
    },
    {
      "cell_type": "code",
      "source": [
        "nlp.pipe_names"
      ],
      "metadata": {
        "colab": {
          "base_uri": "https://localhost:8080/"
        },
        "id": "7zsJ7x9JAxr_",
        "outputId": "bcda8e8a-c780-4214-b04d-0d2902feb998"
      },
      "execution_count": 12,
      "outputs": [
        {
          "output_type": "execute_result",
          "data": {
            "text/plain": [
              "['tok2vec', 'tagger', 'parser', 'attribute_ruler', 'lemmatizer', 'ner']"
            ]
          },
          "metadata": {},
          "execution_count": 12
        }
      ]
    },
    {
      "cell_type": "markdown",
      "source": [
        "### Text categorization pipeline"
      ],
      "metadata": {
        "id": "aSr30CWuLdWs"
      }
    },
    {
      "cell_type": "code",
      "source": [
        "config = {\n",
        "    \"threshold\": 0.5,  # or some other appropriate threshold\n",
        "    \"model\": {\n",
        "        \"@architectures\": \"spacy.TextCatBOW.v3\",\n",
        "        \"exclusive_classes\": True,\n",
        "        \"ngram_size\": 1,\n",
        "        \"no_output_layer\": False\n",
        "    }\n",
        "}\n",
        "\n",
        "textcat = nlp.create_pipe(\"textcat\", config=config)"
      ],
      "metadata": {
        "id": "FcfVObHIAySJ"
      },
      "execution_count": 13,
      "outputs": []
    },
    {
      "cell_type": "code",
      "source": [
        "nlp.add_pipe(\"textcat\", last=True)\n",
        "\n",
        "nlp.pipe_names"
      ],
      "metadata": {
        "colab": {
          "base_uri": "https://localhost:8080/"
        },
        "id": "o5FaHpHHBO3B",
        "outputId": "5cb0f2b4-90cd-484a-bac3-bfca766cf709"
      },
      "execution_count": 14,
      "outputs": [
        {
          "output_type": "execute_result",
          "data": {
            "text/plain": [
              "['tok2vec',\n",
              " 'tagger',\n",
              " 'parser',\n",
              " 'attribute_ruler',\n",
              " 'lemmatizer',\n",
              " 'ner',\n",
              " 'textcat']"
            ]
          },
          "metadata": {},
          "execution_count": 14
        }
      ]
    },
    {
      "cell_type": "markdown",
      "source": [
        "### Adding Labels"
      ],
      "metadata": {
        "id": "oCzvcsjRBpQR"
      }
    },
    {
      "cell_type": "code",
      "source": [
        "recommended_label = \"RECOMMENDED\"\n",
        "not_recommended_label = \"DON'T BUY THIS\"\n",
        "\n",
        "textcat.add_label(recommended_label)\n",
        "textcat.add_label(not_recommended_label)"
      ],
      "metadata": {
        "colab": {
          "base_uri": "https://localhost:8080/"
        },
        "id": "evZJAeg7Bl45",
        "outputId": "d2576a2d-8ab9-4347-cf3e-2bd17d7dda7c"
      },
      "execution_count": 15,
      "outputs": [
        {
          "output_type": "execute_result",
          "data": {
            "text/plain": [
              "1"
            ]
          },
          "metadata": {},
          "execution_count": 15
        }
      ]
    },
    {
      "cell_type": "code",
      "source": [
        "textcat.labels"
      ],
      "metadata": {
        "colab": {
          "base_uri": "https://localhost:8080/"
        },
        "id": "79z2mp2JBuQo",
        "outputId": "c22c71eb-715b-41ee-d868-2cee7b182f0b"
      },
      "execution_count": 16,
      "outputs": [
        {
          "output_type": "execute_result",
          "data": {
            "text/plain": [
              "('RECOMMENDED', \"DON'T BUY THIS\")"
            ]
          },
          "metadata": {},
          "execution_count": 16
        }
      ]
    },
    {
      "cell_type": "code",
      "source": [
        "# Another way to modify the pipeline (individual pipe's config)\n",
        "\n",
        "nlp.get_pipe('textcat').add_label(recommended_label)\n",
        "nlp.get_pipe('textcat').add_label(not_recommended_label)"
      ],
      "metadata": {
        "colab": {
          "base_uri": "https://localhost:8080/"
        },
        "id": "xtd4FCzQBw4H",
        "outputId": "c3587c18-b5e0-49f0-affe-dd10fd09633f"
      },
      "execution_count": 17,
      "outputs": [
        {
          "output_type": "execute_result",
          "data": {
            "text/plain": [
              "1"
            ]
          },
          "metadata": {},
          "execution_count": 17
        }
      ]
    },
    {
      "cell_type": "markdown",
      "source": [
        "Some data transformation is needed here, just creating a new column based on existing columns"
      ],
      "metadata": {
        "id": "cZWeqoQrCLSt"
      }
    },
    {
      "cell_type": "code",
      "source": [
        "df['tuples'] = df.apply(lambda row: (row['user_review'], row['user_suggestion']), axis=1)\n",
        "\n",
        "df"
      ],
      "metadata": {
        "colab": {
          "base_uri": "https://localhost:8080/",
          "height": 424
        },
        "id": "4dXuNcP-CD44",
        "outputId": "55873cff-01b6-4470-e639-886e5fb09888"
      },
      "execution_count": 18,
      "outputs": [
        {
          "output_type": "execute_result",
          "data": {
            "text/plain": [
              "                                             user_review  user_suggestion  \\\n",
              "0      I'm scared and hearing creepy voices.  So I'll...                1   \n",
              "1      Best game, more better than Sam Pepper's YouTu...                1   \n",
              "2      A littly iffy on the controls, but once you kn...                1   \n",
              "3      Great game, fun and colorful and all that.A si...                1   \n",
              "4      Not many games have the cute tag right next to...                1   \n",
              "...                                                  ...              ...   \n",
              "17489  Arguably the single greatest mmorp that exists...                1   \n",
              "17490  An older game, to be sure, but has its own cha...                1   \n",
              "17491  When I frist started playing Everquest 2 it wa...                1   \n",
              "17492  cool game. THe only thing that REALLY PISSES M...                1   \n",
              "17493  this game since I was a little kid, always hav...                1   \n",
              "\n",
              "                                                  tuples  \n",
              "0      (I'm scared and hearing creepy voices.  So I'l...  \n",
              "1      (Best game, more better than Sam Pepper's YouT...  \n",
              "2      (A littly iffy on the controls, but once you k...  \n",
              "3      (Great game, fun and colorful and all that.A s...  \n",
              "4      (Not many games have the cute tag right next t...  \n",
              "...                                                  ...  \n",
              "17489  (Arguably the single greatest mmorp that exist...  \n",
              "17490  (An older game, to be sure, but has its own ch...  \n",
              "17491  (When I frist started playing Everquest 2 it w...  \n",
              "17492  (cool game. THe only thing that REALLY PISSES ...  \n",
              "17493  (this game since I was a little kid, always ha...  \n",
              "\n",
              "[17494 rows x 3 columns]"
            ],
            "text/html": [
              "\n",
              "  <div id=\"df-f0e093e1-cebd-488a-933d-34bbb7e1bdd8\" class=\"colab-df-container\">\n",
              "    <div>\n",
              "<style scoped>\n",
              "    .dataframe tbody tr th:only-of-type {\n",
              "        vertical-align: middle;\n",
              "    }\n",
              "\n",
              "    .dataframe tbody tr th {\n",
              "        vertical-align: top;\n",
              "    }\n",
              "\n",
              "    .dataframe thead th {\n",
              "        text-align: right;\n",
              "    }\n",
              "</style>\n",
              "<table border=\"1\" class=\"dataframe\">\n",
              "  <thead>\n",
              "    <tr style=\"text-align: right;\">\n",
              "      <th></th>\n",
              "      <th>user_review</th>\n",
              "      <th>user_suggestion</th>\n",
              "      <th>tuples</th>\n",
              "    </tr>\n",
              "  </thead>\n",
              "  <tbody>\n",
              "    <tr>\n",
              "      <th>0</th>\n",
              "      <td>I'm scared and hearing creepy voices.  So I'll...</td>\n",
              "      <td>1</td>\n",
              "      <td>(I'm scared and hearing creepy voices.  So I'l...</td>\n",
              "    </tr>\n",
              "    <tr>\n",
              "      <th>1</th>\n",
              "      <td>Best game, more better than Sam Pepper's YouTu...</td>\n",
              "      <td>1</td>\n",
              "      <td>(Best game, more better than Sam Pepper's YouT...</td>\n",
              "    </tr>\n",
              "    <tr>\n",
              "      <th>2</th>\n",
              "      <td>A littly iffy on the controls, but once you kn...</td>\n",
              "      <td>1</td>\n",
              "      <td>(A littly iffy on the controls, but once you k...</td>\n",
              "    </tr>\n",
              "    <tr>\n",
              "      <th>3</th>\n",
              "      <td>Great game, fun and colorful and all that.A si...</td>\n",
              "      <td>1</td>\n",
              "      <td>(Great game, fun and colorful and all that.A s...</td>\n",
              "    </tr>\n",
              "    <tr>\n",
              "      <th>4</th>\n",
              "      <td>Not many games have the cute tag right next to...</td>\n",
              "      <td>1</td>\n",
              "      <td>(Not many games have the cute tag right next t...</td>\n",
              "    </tr>\n",
              "    <tr>\n",
              "      <th>...</th>\n",
              "      <td>...</td>\n",
              "      <td>...</td>\n",
              "      <td>...</td>\n",
              "    </tr>\n",
              "    <tr>\n",
              "      <th>17489</th>\n",
              "      <td>Arguably the single greatest mmorp that exists...</td>\n",
              "      <td>1</td>\n",
              "      <td>(Arguably the single greatest mmorp that exist...</td>\n",
              "    </tr>\n",
              "    <tr>\n",
              "      <th>17490</th>\n",
              "      <td>An older game, to be sure, but has its own cha...</td>\n",
              "      <td>1</td>\n",
              "      <td>(An older game, to be sure, but has its own ch...</td>\n",
              "    </tr>\n",
              "    <tr>\n",
              "      <th>17491</th>\n",
              "      <td>When I frist started playing Everquest 2 it wa...</td>\n",
              "      <td>1</td>\n",
              "      <td>(When I frist started playing Everquest 2 it w...</td>\n",
              "    </tr>\n",
              "    <tr>\n",
              "      <th>17492</th>\n",
              "      <td>cool game. THe only thing that REALLY PISSES M...</td>\n",
              "      <td>1</td>\n",
              "      <td>(cool game. THe only thing that REALLY PISSES ...</td>\n",
              "    </tr>\n",
              "    <tr>\n",
              "      <th>17493</th>\n",
              "      <td>this game since I was a little kid, always hav...</td>\n",
              "      <td>1</td>\n",
              "      <td>(this game since I was a little kid, always ha...</td>\n",
              "    </tr>\n",
              "  </tbody>\n",
              "</table>\n",
              "<p>17494 rows × 3 columns</p>\n",
              "</div>\n",
              "    <div class=\"colab-df-buttons\">\n",
              "\n",
              "  <div class=\"colab-df-container\">\n",
              "    <button class=\"colab-df-convert\" onclick=\"convertToInteractive('df-f0e093e1-cebd-488a-933d-34bbb7e1bdd8')\"\n",
              "            title=\"Convert this dataframe to an interactive table.\"\n",
              "            style=\"display:none;\">\n",
              "\n",
              "  <svg xmlns=\"http://www.w3.org/2000/svg\" height=\"24px\" viewBox=\"0 -960 960 960\">\n",
              "    <path d=\"M120-120v-720h720v720H120Zm60-500h600v-160H180v160Zm220 220h160v-160H400v160Zm0 220h160v-160H400v160ZM180-400h160v-160H180v160Zm440 0h160v-160H620v160ZM180-180h160v-160H180v160Zm440 0h160v-160H620v160Z\"/>\n",
              "  </svg>\n",
              "    </button>\n",
              "\n",
              "  <style>\n",
              "    .colab-df-container {\n",
              "      display:flex;\n",
              "      gap: 12px;\n",
              "    }\n",
              "\n",
              "    .colab-df-convert {\n",
              "      background-color: #E8F0FE;\n",
              "      border: none;\n",
              "      border-radius: 50%;\n",
              "      cursor: pointer;\n",
              "      display: none;\n",
              "      fill: #1967D2;\n",
              "      height: 32px;\n",
              "      padding: 0 0 0 0;\n",
              "      width: 32px;\n",
              "    }\n",
              "\n",
              "    .colab-df-convert:hover {\n",
              "      background-color: #E2EBFA;\n",
              "      box-shadow: 0px 1px 2px rgba(60, 64, 67, 0.3), 0px 1px 3px 1px rgba(60, 64, 67, 0.15);\n",
              "      fill: #174EA6;\n",
              "    }\n",
              "\n",
              "    .colab-df-buttons div {\n",
              "      margin-bottom: 4px;\n",
              "    }\n",
              "\n",
              "    [theme=dark] .colab-df-convert {\n",
              "      background-color: #3B4455;\n",
              "      fill: #D2E3FC;\n",
              "    }\n",
              "\n",
              "    [theme=dark] .colab-df-convert:hover {\n",
              "      background-color: #434B5C;\n",
              "      box-shadow: 0px 1px 3px 1px rgba(0, 0, 0, 0.15);\n",
              "      filter: drop-shadow(0px 1px 2px rgba(0, 0, 0, 0.3));\n",
              "      fill: #FFFFFF;\n",
              "    }\n",
              "  </style>\n",
              "\n",
              "    <script>\n",
              "      const buttonEl =\n",
              "        document.querySelector('#df-f0e093e1-cebd-488a-933d-34bbb7e1bdd8 button.colab-df-convert');\n",
              "      buttonEl.style.display =\n",
              "        google.colab.kernel.accessAllowed ? 'block' : 'none';\n",
              "\n",
              "      async function convertToInteractive(key) {\n",
              "        const element = document.querySelector('#df-f0e093e1-cebd-488a-933d-34bbb7e1bdd8');\n",
              "        const dataTable =\n",
              "          await google.colab.kernel.invokeFunction('convertToInteractive',\n",
              "                                                    [key], {});\n",
              "        if (!dataTable) return;\n",
              "\n",
              "        const docLinkHtml = 'Like what you see? Visit the ' +\n",
              "          '<a target=\"_blank\" href=https://colab.research.google.com/notebooks/data_table.ipynb>data table notebook</a>'\n",
              "          + ' to learn more about interactive tables.';\n",
              "        element.innerHTML = '';\n",
              "        dataTable['output_type'] = 'display_data';\n",
              "        await google.colab.output.renderOutput(dataTable, element);\n",
              "        const docLink = document.createElement('div');\n",
              "        docLink.innerHTML = docLinkHtml;\n",
              "        element.appendChild(docLink);\n",
              "      }\n",
              "    </script>\n",
              "  </div>\n",
              "\n",
              "\n",
              "<div id=\"df-3746aa5d-c733-4aa4-8d63-18d113184bab\">\n",
              "  <button class=\"colab-df-quickchart\" onclick=\"quickchart('df-3746aa5d-c733-4aa4-8d63-18d113184bab')\"\n",
              "            title=\"Suggest charts\"\n",
              "            style=\"display:none;\">\n",
              "\n",
              "<svg xmlns=\"http://www.w3.org/2000/svg\" height=\"24px\"viewBox=\"0 0 24 24\"\n",
              "     width=\"24px\">\n",
              "    <g>\n",
              "        <path d=\"M19 3H5c-1.1 0-2 .9-2 2v14c0 1.1.9 2 2 2h14c1.1 0 2-.9 2-2V5c0-1.1-.9-2-2-2zM9 17H7v-7h2v7zm4 0h-2V7h2v10zm4 0h-2v-4h2v4z\"/>\n",
              "    </g>\n",
              "</svg>\n",
              "  </button>\n",
              "\n",
              "<style>\n",
              "  .colab-df-quickchart {\n",
              "      --bg-color: #E8F0FE;\n",
              "      --fill-color: #1967D2;\n",
              "      --hover-bg-color: #E2EBFA;\n",
              "      --hover-fill-color: #174EA6;\n",
              "      --disabled-fill-color: #AAA;\n",
              "      --disabled-bg-color: #DDD;\n",
              "  }\n",
              "\n",
              "  [theme=dark] .colab-df-quickchart {\n",
              "      --bg-color: #3B4455;\n",
              "      --fill-color: #D2E3FC;\n",
              "      --hover-bg-color: #434B5C;\n",
              "      --hover-fill-color: #FFFFFF;\n",
              "      --disabled-bg-color: #3B4455;\n",
              "      --disabled-fill-color: #666;\n",
              "  }\n",
              "\n",
              "  .colab-df-quickchart {\n",
              "    background-color: var(--bg-color);\n",
              "    border: none;\n",
              "    border-radius: 50%;\n",
              "    cursor: pointer;\n",
              "    display: none;\n",
              "    fill: var(--fill-color);\n",
              "    height: 32px;\n",
              "    padding: 0;\n",
              "    width: 32px;\n",
              "  }\n",
              "\n",
              "  .colab-df-quickchart:hover {\n",
              "    background-color: var(--hover-bg-color);\n",
              "    box-shadow: 0 1px 2px rgba(60, 64, 67, 0.3), 0 1px 3px 1px rgba(60, 64, 67, 0.15);\n",
              "    fill: var(--button-hover-fill-color);\n",
              "  }\n",
              "\n",
              "  .colab-df-quickchart-complete:disabled,\n",
              "  .colab-df-quickchart-complete:disabled:hover {\n",
              "    background-color: var(--disabled-bg-color);\n",
              "    fill: var(--disabled-fill-color);\n",
              "    box-shadow: none;\n",
              "  }\n",
              "\n",
              "  .colab-df-spinner {\n",
              "    border: 2px solid var(--fill-color);\n",
              "    border-color: transparent;\n",
              "    border-bottom-color: var(--fill-color);\n",
              "    animation:\n",
              "      spin 1s steps(1) infinite;\n",
              "  }\n",
              "\n",
              "  @keyframes spin {\n",
              "    0% {\n",
              "      border-color: transparent;\n",
              "      border-bottom-color: var(--fill-color);\n",
              "      border-left-color: var(--fill-color);\n",
              "    }\n",
              "    20% {\n",
              "      border-color: transparent;\n",
              "      border-left-color: var(--fill-color);\n",
              "      border-top-color: var(--fill-color);\n",
              "    }\n",
              "    30% {\n",
              "      border-color: transparent;\n",
              "      border-left-color: var(--fill-color);\n",
              "      border-top-color: var(--fill-color);\n",
              "      border-right-color: var(--fill-color);\n",
              "    }\n",
              "    40% {\n",
              "      border-color: transparent;\n",
              "      border-right-color: var(--fill-color);\n",
              "      border-top-color: var(--fill-color);\n",
              "    }\n",
              "    60% {\n",
              "      border-color: transparent;\n",
              "      border-right-color: var(--fill-color);\n",
              "    }\n",
              "    80% {\n",
              "      border-color: transparent;\n",
              "      border-right-color: var(--fill-color);\n",
              "      border-bottom-color: var(--fill-color);\n",
              "    }\n",
              "    90% {\n",
              "      border-color: transparent;\n",
              "      border-bottom-color: var(--fill-color);\n",
              "    }\n",
              "  }\n",
              "</style>\n",
              "\n",
              "  <script>\n",
              "    async function quickchart(key) {\n",
              "      const quickchartButtonEl =\n",
              "        document.querySelector('#' + key + ' button');\n",
              "      quickchartButtonEl.disabled = true;  // To prevent multiple clicks.\n",
              "      quickchartButtonEl.classList.add('colab-df-spinner');\n",
              "      try {\n",
              "        const charts = await google.colab.kernel.invokeFunction(\n",
              "            'suggestCharts', [key], {});\n",
              "      } catch (error) {\n",
              "        console.error('Error during call to suggestCharts:', error);\n",
              "      }\n",
              "      quickchartButtonEl.classList.remove('colab-df-spinner');\n",
              "      quickchartButtonEl.classList.add('colab-df-quickchart-complete');\n",
              "    }\n",
              "    (() => {\n",
              "      let quickchartButtonEl =\n",
              "        document.querySelector('#df-3746aa5d-c733-4aa4-8d63-18d113184bab button');\n",
              "      quickchartButtonEl.style.display =\n",
              "        google.colab.kernel.accessAllowed ? 'block' : 'none';\n",
              "    })();\n",
              "  </script>\n",
              "</div>\n",
              "\n",
              "  <div id=\"id_45507f5b-a458-4480-9bdf-a599854f1121\">\n",
              "    <style>\n",
              "      .colab-df-generate {\n",
              "        background-color: #E8F0FE;\n",
              "        border: none;\n",
              "        border-radius: 50%;\n",
              "        cursor: pointer;\n",
              "        display: none;\n",
              "        fill: #1967D2;\n",
              "        height: 32px;\n",
              "        padding: 0 0 0 0;\n",
              "        width: 32px;\n",
              "      }\n",
              "\n",
              "      .colab-df-generate:hover {\n",
              "        background-color: #E2EBFA;\n",
              "        box-shadow: 0px 1px 2px rgba(60, 64, 67, 0.3), 0px 1px 3px 1px rgba(60, 64, 67, 0.15);\n",
              "        fill: #174EA6;\n",
              "      }\n",
              "\n",
              "      [theme=dark] .colab-df-generate {\n",
              "        background-color: #3B4455;\n",
              "        fill: #D2E3FC;\n",
              "      }\n",
              "\n",
              "      [theme=dark] .colab-df-generate:hover {\n",
              "        background-color: #434B5C;\n",
              "        box-shadow: 0px 1px 3px 1px rgba(0, 0, 0, 0.15);\n",
              "        filter: drop-shadow(0px 1px 2px rgba(0, 0, 0, 0.3));\n",
              "        fill: #FFFFFF;\n",
              "      }\n",
              "    </style>\n",
              "    <button class=\"colab-df-generate\" onclick=\"generateWithVariable('df')\"\n",
              "            title=\"Generate code using this dataframe.\"\n",
              "            style=\"display:none;\">\n",
              "\n",
              "  <svg xmlns=\"http://www.w3.org/2000/svg\" height=\"24px\"viewBox=\"0 0 24 24\"\n",
              "       width=\"24px\">\n",
              "    <path d=\"M7,19H8.4L18.45,9,17,7.55,7,17.6ZM5,21V16.75L18.45,3.32a2,2,0,0,1,2.83,0l1.4,1.43a1.91,1.91,0,0,1,.58,1.4,1.91,1.91,0,0,1-.58,1.4L9.25,21ZM18.45,9,17,7.55Zm-12,3A5.31,5.31,0,0,0,4.9,8.1,5.31,5.31,0,0,0,1,6.5,5.31,5.31,0,0,0,4.9,4.9,5.31,5.31,0,0,0,6.5,1,5.31,5.31,0,0,0,8.1,4.9,5.31,5.31,0,0,0,12,6.5,5.46,5.46,0,0,0,6.5,12Z\"/>\n",
              "  </svg>\n",
              "    </button>\n",
              "    <script>\n",
              "      (() => {\n",
              "      const buttonEl =\n",
              "        document.querySelector('#id_45507f5b-a458-4480-9bdf-a599854f1121 button.colab-df-generate');\n",
              "      buttonEl.style.display =\n",
              "        google.colab.kernel.accessAllowed ? 'block' : 'none';\n",
              "\n",
              "      buttonEl.onclick = () => {\n",
              "        google.colab.notebook.generateWithVariable('df');\n",
              "      }\n",
              "      })();\n",
              "    </script>\n",
              "  </div>\n",
              "\n",
              "    </div>\n",
              "  </div>\n"
            ],
            "application/vnd.google.colaboratory.intrinsic+json": {
              "type": "dataframe",
              "variable_name": "df",
              "summary": "{\n  \"name\": \"df\",\n  \"rows\": 17494,\n  \"fields\": [\n    {\n      \"column\": \"user_review\",\n      \"properties\": {\n        \"dtype\": \"string\",\n        \"num_unique_values\": 17490,\n        \"samples\": [\n          \"\\u2665\\u2665\\u2665\\u2665 this game. It's gorgeous and addicting. The grind is extreamly long and many of the vehicles aren't balanced or historically accurate. The models in the game are amazing looking as is the customization. The game is massively frustrating as many people (not just I) go round after round of being killed to never achieve anything. I once played 10 rounds in a row of just being slaughtered, no kills, no captures. Being sniped from accrosed the map in Tier 2-3 games before I could even do anything. I want so hard to like and enjoy this game and it instead makes me want to throw my monitor acrossed the room. To counter point, I have had rounds with many kills and capturess, they're just few and far between. Having played most FPS' since the early 90's, I'm experienced enough to know when a game just isn't worth playing. Sorry War Thunder, I'm done with you.\",\n          \"If you want to make new games every 6 months then do that, but kindly leave the rest of us the game we PAID MONEY to play ! To say that I am\\u00e2\\u2122\\u00a5\\u00e2\\u2122\\u00a5\\u00e2\\u2122\\u00a5\\u00e2\\u2122\\u00a5\\u00e2\\u2122\\u00a5\\u00e2\\u2122\\u00a5\\u00e2\\u2122\\u00a5\\u00e2\\u2122\\u00a5off is an understatement. I did not tolerate the god complex of the blizzard crowd and I think you \\u00e2\\u2122\\u00a5\\u00e2\\u2122\\u00a5\\u00e2\\u2122\\u00a5\\u00e2\\u2122\\u00a5\\u00e2\\u2122\\u00a5\\u00e2\\u2122\\u00a5\\u00e2\\u2122\\u00a5s are worse. It is bad enough that your drops suck and are not compensatory or equitable with the loss of experience or the difficulty of the fights, but having to remember, re-evaluate and redistribute skill tree points evey 6 months is intolerable. I play games to relax not to spend my time trying to remember how I got the character to survive or to follow some other \\u00e2\\u2122\\u00a5\\u00e2\\u2122\\u00a5\\u00e2\\u2122\\u00a5\\u00e2\\u2122\\u00a5\\u00e2\\u2122\\u00a5\\u00e2\\u2122\\u00a5\\u00e2\\u2122\\u00a5s build!. I just spent an hour,  I could have spent playing, trying to get 2 of my characters back. but then I thought, I still CAN\\\"T STAND what you idiots did to game the last time you did this, so why am I trying ?! I am almost positive that I am NOT going to like your stupid \\\"DELVE\\\" crap either, and if I were to get my characters back, 6 months from now you're going to do the same\\u00e2\\u2122\\u00a5\\u00e2\\u2122\\u00a5\\u00e2\\u2122\\u00a5\\u00e2\\u2122\\u00a5\\u00e2\\u2122\\u00a5\\u00e2\\u2122\\u00a5AGAIN!!!!!!!   GIVE ME  MY MONEY BACK!!!\",\n          \"Early Access ReviewWow, I can't say enough about this game.  Simple to learn, graphics are pretty basic but still get the scares across and the sound track works with the game.  The timing for the jump scares is great.  They get you into a false sense of security then out of nowhere whamo.  Then later in the game as the spicimens are chasing you the jump scares are so much worse.  Yet we all keep coming back for more?  Great game and the price is better.  I would gladly have paid $10 for this game, however it was FREE!  1000 rooms, jump scares and a great story too?  Can't beat it with Michael Jackson's dead hand.\"\n        ],\n        \"semantic_type\": \"\",\n        \"description\": \"\"\n      }\n    },\n    {\n      \"column\": \"user_suggestion\",\n      \"properties\": {\n        \"dtype\": \"number\",\n        \"std\": 0,\n        \"min\": 0,\n        \"max\": 1,\n        \"num_unique_values\": 2,\n        \"samples\": [\n          0,\n          1\n        ],\n        \"semantic_type\": \"\",\n        \"description\": \"\"\n      }\n    },\n    {\n      \"column\": \"tuples\",\n      \"properties\": {\n        \"dtype\": \"string\",\n        \"num_unique_values\": 17491,\n        \"samples\": [\n          [\n            \"\\u2665\\u2665\\u2665\\u2665 this game. It's gorgeous and addicting. The grind is extreamly long and many of the vehicles aren't balanced or historically accurate. The models in the game are amazing looking as is the customization. The game is massively frustrating as many people (not just I) go round after round of being killed to never achieve anything. I once played 10 rounds in a row of just being slaughtered, no kills, no captures. Being sniped from accrosed the map in Tier 2-3 games before I could even do anything. I want so hard to like and enjoy this game and it instead makes me want to throw my monitor acrossed the room. To counter point, I have had rounds with many kills and capturess, they're just few and far between. Having played most FPS' since the early 90's, I'm experienced enough to know when a game just isn't worth playing. Sorry War Thunder, I'm done with you.\",\n            0\n          ],\n          [\n            \"If you want to make new games every 6 months then do that, but kindly leave the rest of us the game we PAID MONEY to play ! To say that I am\\u00e2\\u2122\\u00a5\\u00e2\\u2122\\u00a5\\u00e2\\u2122\\u00a5\\u00e2\\u2122\\u00a5\\u00e2\\u2122\\u00a5\\u00e2\\u2122\\u00a5\\u00e2\\u2122\\u00a5\\u00e2\\u2122\\u00a5off is an understatement. I did not tolerate the god complex of the blizzard crowd and I think you \\u00e2\\u2122\\u00a5\\u00e2\\u2122\\u00a5\\u00e2\\u2122\\u00a5\\u00e2\\u2122\\u00a5\\u00e2\\u2122\\u00a5\\u00e2\\u2122\\u00a5\\u00e2\\u2122\\u00a5s are worse. It is bad enough that your drops suck and are not compensatory or equitable with the loss of experience or the difficulty of the fights, but having to remember, re-evaluate and redistribute skill tree points evey 6 months is intolerable. I play games to relax not to spend my time trying to remember how I got the character to survive or to follow some other \\u00e2\\u2122\\u00a5\\u00e2\\u2122\\u00a5\\u00e2\\u2122\\u00a5\\u00e2\\u2122\\u00a5\\u00e2\\u2122\\u00a5\\u00e2\\u2122\\u00a5\\u00e2\\u2122\\u00a5s build!. I just spent an hour,  I could have spent playing, trying to get 2 of my characters back. but then I thought, I still CAN\\\"T STAND what you idiots did to game the last time you did this, so why am I trying ?! I am almost positive that I am NOT going to like your stupid \\\"DELVE\\\" crap either, and if I were to get my characters back, 6 months from now you're going to do the same\\u00e2\\u2122\\u00a5\\u00e2\\u2122\\u00a5\\u00e2\\u2122\\u00a5\\u00e2\\u2122\\u00a5\\u00e2\\u2122\\u00a5\\u00e2\\u2122\\u00a5AGAIN!!!!!!!   GIVE ME  MY MONEY BACK!!!\",\n            0\n          ]\n        ],\n        \"semantic_type\": \"\",\n        \"description\": \"\"\n      }\n    }\n  ]\n}"
            }
          },
          "metadata": {},
          "execution_count": 18
        }
      ]
    },
    {
      "cell_type": "code",
      "source": [
        "df['tuples'][0]"
      ],
      "metadata": {
        "colab": {
          "base_uri": "https://localhost:8080/"
        },
        "id": "rAU9_M_1CQQu",
        "outputId": "ce53414b-7f89-489b-e758-5c1c50e26d64"
      },
      "execution_count": 19,
      "outputs": [
        {
          "output_type": "execute_result",
          "data": {
            "text/plain": [
              "(\"I'm scared and hearing creepy voices.  So I'll pause for a moment and write a review while I wait for my heart beat to return to atleast somewhat calmer times.  This game is adorable and creepy like my happy tree friends but with the graphics sceme of my childhood (but more bubble and 'clean').  Hello 1990's.What charactes there are (that isnot trying to kill me) were likable and a bit odd.  I did do a few noob things though, such as:Oh look a class room full of ghosts from dead children, lets shine my flashlight on them and stand there staring at them..Or, hmm creepy music, I'll turn around and see if I can see what's chasing me.Never before in a game have I been this afraid of finding a locked door.\",\n",
              " 1)"
            ]
          },
          "metadata": {},
          "execution_count": 19
        }
      ]
    },
    {
      "cell_type": "code",
      "source": [
        "df['tuples'][16995]"
      ],
      "metadata": {
        "colab": {
          "base_uri": "https://localhost:8080/"
        },
        "id": "X2m9FKUFCTyG",
        "outputId": "9d45f5f2-f942-4b81-fc6b-6de6c8c7df78"
      },
      "execution_count": 20,
      "outputs": [
        {
          "output_type": "execute_result",
          "data": {
            "text/plain": [
              "('Product received for freeEarly Access ReviewBug, i can not start the game. Improvement suggestion:1. walking2. mini map apperance3. color of items no need for color coded item to identify the rarity something.4. run boost item. better if like a real life game.5. Guns respawnNo idea?Why with gaijin? what the purpose please answerobservation on my first game.',\n",
              " 0)"
            ]
          },
          "metadata": {},
          "execution_count": 20
        }
      ]
    },
    {
      "cell_type": "code",
      "source": [
        "train = df['tuples'].tolist()\n",
        "\n",
        "train[:2]"
      ],
      "metadata": {
        "colab": {
          "base_uri": "https://localhost:8080/"
        },
        "id": "8M2CdCyiCWBe",
        "outputId": "07766964-b0d5-4c8d-d676-ed4903cc3f53"
      },
      "execution_count": 21,
      "outputs": [
        {
          "output_type": "execute_result",
          "data": {
            "text/plain": [
              "[(\"I'm scared and hearing creepy voices.  So I'll pause for a moment and write a review while I wait for my heart beat to return to atleast somewhat calmer times.  This game is adorable and creepy like my happy tree friends but with the graphics sceme of my childhood (but more bubble and 'clean').  Hello 1990's.What charactes there are (that isnot trying to kill me) were likable and a bit odd.  I did do a few noob things though, such as:Oh look a class room full of ghosts from dead children, lets shine my flashlight on them and stand there staring at them..Or, hmm creepy music, I'll turn around and see if I can see what's chasing me.Never before in a game have I been this afraid of finding a locked door.\",\n",
              "  1),\n",
              " (\"Best game, more better than Sam Pepper's YouTube account. 10/10What you'll need to play:A computerSome extra pants.Pros:Scary as hell.Fun.Adventure.Spooky.Did I forgot to mention that its scary as hell?You'll get more pants/briefs in your wardrobe.Time consuming if you're bored.Cons:Buying pants/briefs. You haven't downloaded it yet.\",\n",
              "  1)]"
            ]
          },
          "metadata": {},
          "execution_count": 21
        }
      ]
    },
    {
      "cell_type": "markdown",
      "source": [
        "### Data loader\n",
        "\n",
        "This implementation is highly inefficient and we should use sklearn for splitting data."
      ],
      "metadata": {
        "id": "mOjkq2dzMHqU"
      }
    },
    {
      "cell_type": "code",
      "source": [
        "import random\n",
        "\n",
        "def load_data(split=0.8, train=train):\n",
        "  train_data = train\n",
        "\n",
        "  random.shuffle(train_data)\n",
        "\n",
        "  texts, labels = zip(*train_data)\n",
        "\n",
        "  # print(type(texts), type(labels))\n",
        "\n",
        "  cats = [\n",
        "    {f'{recommended_label}': bool(y), f'{not_recommended_label}': not bool(y)} for y in labels\n",
        "  ]\n",
        "\n",
        "  split = int(len(train_data) * split)\n",
        "\n",
        "  return (texts[:split], cats[:split]), (texts[split:], cats[split:])"
      ],
      "metadata": {
        "id": "mDGf34dKCfzW"
      },
      "execution_count": 22,
      "outputs": []
    },
    {
      "cell_type": "code",
      "source": [
        "(train_texts, train_cats), (validation_texts, validation_cats) = load_data()\n",
        "\n",
        "train_data = list(zip(train_texts, [{'cats': cats} for cats in train_cats]))\n",
        "\n",
        "train_data[:2]"
      ],
      "metadata": {
        "colab": {
          "base_uri": "https://localhost:8080/"
        },
        "id": "P-wyPQroDysp",
        "outputId": "4f01d8cb-120d-4a48-de8e-73299fd61122"
      },
      "execution_count": 23,
      "outputs": [
        {
          "output_type": "execute_result",
          "data": {
            "text/plain": [
              "[('I cannot get this game to launch properly on the Oculus, or at all, attempting to ignore a VR launch only results in a continued attempted VR launch by the program. I cannot wait to play this but I am stuck with a grey screen on launch. Does anyone have a solution to this?',\n",
              "  {'cats': {'RECOMMENDED': True, \"DON'T BUY THIS\": False}}),\n",
              " ('hi im from the future/ escape from tarkov.do yourself a favor and dont ever EVER play a game with russian developers. also gaijin gives out all kinds of crap to people whoring themselves out for reviews. dont trust the tons of positive reviews especially ones from people with high hours.The game was bordering on mixed reviews with most of the negative reviews coming from many man players with 500-1000+ hours leaving negative reviews until gaijin began their propaganda campaign. but noooo we need to curate the people leaving steam reviews huh steam..gg gaming.',\n",
              "  {'cats': {'RECOMMENDED': False, \"DON'T BUY THIS\": True}})]"
            ]
          },
          "metadata": {},
          "execution_count": 23
        }
      ]
    },
    {
      "cell_type": "code",
      "source": [
        "validation_data = list(zip(validation_texts, [{'cats': cats} for cats in validation_cats]))"
      ],
      "metadata": {
        "id": "r9WUsCNoJRj2"
      },
      "execution_count": 24,
      "outputs": []
    },
    {
      "cell_type": "markdown",
      "source": [
        "## Training a spacy model"
      ],
      "metadata": {
        "id": "ZdE8Gy29FHsW"
      }
    },
    {
      "cell_type": "code",
      "source": [
        "from spacy.util import minibatch, compounding\n",
        "from spacy.training.example import Example\n",
        "\n",
        "n_iter = 3\n",
        "\n",
        "other_pipes = [p for p in nlp.pipe_names if p != 'textcat']\n",
        "\n",
        "with nlp.disable_pipes(*other_pipes):\n",
        "  optimzer = nlp.begin_training()\n",
        "\n",
        "  print(\"Starting to train a spacy base model with custom data\")\n",
        "\n",
        "  for i in range(n_iter):\n",
        "    print(f\"Epoch {i}\")\n",
        "    losses = {}\n",
        "\n",
        "    # Always shuffle training data each epoch and use minibatches to stabilize training.\n",
        "    batches = minibatch(train_data, size=compounding(4., 32., 1.001))\n",
        "\n",
        "    for batch in batches:\n",
        "      texts, annotations = zip(*batch)\n",
        "\n",
        "      # nlp.update(texts, annotations, sgd=optimzer, drop=0.2, losses=losses)\n",
        "      examples = [\n",
        "          Example.from_dict(nlp.make_doc(text), ann) for text, ann in zip(texts, annotations)\n",
        "      ]\n",
        "\n",
        "      # Using dropout (here set to 20%) to avoid overfitting\n",
        "      nlp.update(examples, sgd=optimzer, drop=0.2, losses=losses)"
      ],
      "metadata": {
        "colab": {
          "base_uri": "https://localhost:8080/"
        },
        "id": "ReCBZoEaEsBB",
        "outputId": "9ba5575e-cde3-43eb-c8fa-afe634451758"
      },
      "execution_count": 25,
      "outputs": [
        {
          "metadata": {
            "tags": null
          },
          "name": "stdout",
          "output_type": "stream",
          "text": [
            "Starting to train a spacy base model with custom data\n",
            "Epoch 0\n",
            "Epoch 1\n",
            "Epoch 2\n"
          ]
        }
      ]
    },
    {
      "cell_type": "markdown",
      "source": [
        "## Validating on unseen data"
      ],
      "metadata": {
        "id": "w-V_Z9ZfFjbJ"
      }
    },
    {
      "cell_type": "code",
      "source": [
        "review=\"the game was boring and we did not have any fun at all - I was very much so dissapointed\"\n",
        "\n",
        "doc = nlp(review)\n",
        "\n",
        "doc.cats"
      ],
      "metadata": {
        "colab": {
          "base_uri": "https://localhost:8080/"
        },
        "id": "CtDv4QhYFc9X",
        "outputId": "dbe2fe59-4a7f-4432-e385-745ae88b6cc5"
      },
      "execution_count": 26,
      "outputs": [
        {
          "data": {
            "text/plain": [
              "{'RECOMMENDED': 0.00011717672896338627, \"DON'T BUY THIS\": 0.9998828172683716}"
            ]
          },
          "execution_count": 26,
          "metadata": {},
          "output_type": "execute_result"
        }
      ]
    },
    {
      "cell_type": "code",
      "source": [
        "new_review=\"the game was long and it was not too bad but i had much better expectations and it's sad to say - I would not buy this game if I were you\"\n",
        "\n",
        "doc = nlp(new_review)\n",
        "\n",
        "doc.cats"
      ],
      "metadata": {
        "colab": {
          "base_uri": "https://localhost:8080/"
        },
        "id": "6QHz54gxFo_g",
        "outputId": "44a12d37-03f8-41e7-899a-6667e51e5d5a"
      },
      "execution_count": 27,
      "outputs": [
        {
          "data": {
            "text/plain": [
              "{'RECOMMENDED': 0.00034296762896701694, \"DON'T BUY THIS\": 0.9996570348739624}"
            ]
          },
          "execution_count": 27,
          "metadata": {},
          "output_type": "execute_result"
        }
      ]
    },
    {
      "cell_type": "code",
      "source": [
        "new_review=\"best exciting flight simulator EVER!!!!!\"\n",
        "\n",
        "doc= nlp(new_review)\n",
        "\n",
        "doc.cats"
      ],
      "metadata": {
        "colab": {
          "base_uri": "https://localhost:8080/"
        },
        "id": "KnYZwv7uFwBX",
        "outputId": "09aa08d4-2d32-4682-b850-20bda0fb5e55"
      },
      "execution_count": 28,
      "outputs": [
        {
          "data": {
            "text/plain": [
              "{'RECOMMENDED': 0.9999983310699463, \"DON'T BUY THIS\": 1.6242381661868421e-06}"
            ]
          },
          "execution_count": 28,
          "metadata": {},
          "output_type": "execute_result"
        }
      ]
    },
    {
      "cell_type": "code",
      "source": [
        "new_review=\"wow it was awesome!!!! i showed all my friends!! i did not regret spending money on this game!\"\n",
        "doc = nlp(new_review)\n",
        "doc.cats"
      ],
      "metadata": {
        "colab": {
          "base_uri": "https://localhost:8080/"
        },
        "id": "WhXYY1GpFzam",
        "outputId": "a594bfb7-8140-4bd0-fd4d-de7ce2223fab"
      },
      "execution_count": 29,
      "outputs": [
        {
          "data": {
            "text/plain": [
              "{'RECOMMENDED': 0.9458870887756348, \"DON'T BUY THIS\": 0.054112885147333145}"
            ]
          },
          "execution_count": 29,
          "metadata": {},
          "output_type": "execute_result"
        }
      ]
    },
    {
      "cell_type": "code",
      "source": [
        "new_review=\"It is not a good game, we thought we would have more fun but it was too long and we never finished till the end. I admit it was more fun than the first part reeased last year\"\n",
        "\n",
        "doc = nlp(new_review)\n",
        "\n",
        "doc.cats"
      ],
      "metadata": {
        "colab": {
          "base_uri": "https://localhost:8080/"
        },
        "id": "2NWlIZGJF728",
        "outputId": "12bea557-c155-433a-92e0-7e4646f5356b"
      },
      "execution_count": 30,
      "outputs": [
        {
          "data": {
            "text/plain": [
              "{'RECOMMENDED': 0.3729829490184784, \"DON'T BUY THIS\": 0.627017080783844}"
            ]
          },
          "execution_count": 30,
          "metadata": {},
          "output_type": "execute_result"
        }
      ]
    },
    {
      "cell_type": "code",
      "source": [
        "from sklearn.metrics import precision_recall_fscore_support\n",
        "\n",
        "def evaluate(nlp, examples):\n",
        "    texts = [ex.reference.text for ex in examples]\n",
        "    true_labels = [max(ex.reference.cats, key=ex.reference.cats.get) for ex in examples]\n",
        "    docs = list(nlp.pipe(texts))\n",
        "    pred_labels = [max(doc.cats, key=doc.cats.get) for doc in docs]\n",
        "    precision, recall, f1, _ = precision_recall_fscore_support(true_labels, pred_labels, average=\"weighted\")\n",
        "    return precision, recall, f1"
      ],
      "metadata": {
        "id": "WIrLGtlnGAYl"
      },
      "execution_count": 31,
      "outputs": []
    },
    {
      "cell_type": "code",
      "source": [
        "validation_examples = [\n",
        "    Example.from_dict(nlp.make_doc(text), ann) for text, ann in validation_data\n",
        "]\n",
        "\n",
        "validation_examples[0]"
      ],
      "metadata": {
        "colab": {
          "base_uri": "https://localhost:8080/"
        },
        "id": "-RTPMlRQHNDF",
        "outputId": "630a244e-e120-48e7-dbba-5bca2d906e74"
      },
      "execution_count": 32,
      "outputs": [
        {
          "output_type": "execute_result",
          "data": {
            "text/plain": [
              "{'doc_annotation': {'cats': {'RECOMMENDED': False, \"DON'T BUY THIS\": True}, 'entities': ['O', 'O', 'O', 'O', 'O', 'O', 'O', 'O', 'O', 'O', 'O', 'O', 'O', 'O', 'O', 'O', 'O', 'O', 'O', 'O', 'O', 'O', 'O', 'O', 'O', 'O', 'O', 'O', 'O', 'O', 'O', 'O', 'O', 'O', 'O', 'O', 'O', 'O', 'O', 'O', 'O', 'O', 'O', 'O', 'O', 'O', 'O', 'O', 'O', 'O', 'O', 'O', 'O', 'O', 'O', 'O', 'O', 'O', 'O', 'O', 'O', 'O', 'O', 'O', 'O', 'O', 'O', 'O', 'O', 'O', 'O', 'O', 'O', 'O', 'O', 'O', 'O', 'O', 'O', 'O', 'O', 'O'], 'spans': {}, 'links': {}}, 'token_annotation': {'ORTH': ['It', \"'s\", 'basically', 'the', 'exact', 'same', 'thing', 'as', 'every', 'other', 'clicker', 'game', ',', 'except', 'this', 'time', ',', 'it', \"'s\", 'anime', '.', 'Also', ',', 'mechanically', ',', 'it', \"'s\", 'objectively', 'the', 'worst', 'in', 'every', 'single', 'way', '.', 'So', ',', 'if', 'you', 'like', '♥', '♥', '♥', '♥', '♥', '♥', 'games', 'BUT', 'it', 'also', 'has', 'to', 'be', 'the', '♥', '♥', '♥', '♥', '♥', 'iest', 'one', 'in', 'the', 'genre', ',', 'OR', 'you', 'need', 'it', 'to', 'have', 'anime', 'girls', ',', 'download', 'this', '.', 'You', 'will', 'regret', 'it', '.'], 'SPACY': [False, True, True, True, True, True, True, True, True, True, True, False, True, True, True, False, True, False, True, False, True, False, True, False, True, False, True, True, True, True, True, True, True, False, True, False, True, True, True, True, False, False, False, False, False, True, True, True, True, True, True, True, True, True, False, False, False, False, False, True, True, True, True, False, True, True, True, True, True, True, True, True, False, True, True, False, True, True, True, True, False, False], 'TAG': ['', '', '', '', '', '', '', '', '', '', '', '', '', '', '', '', '', '', '', '', '', '', '', '', '', '', '', '', '', '', '', '', '', '', '', '', '', '', '', '', '', '', '', '', '', '', '', '', '', '', '', '', '', '', '', '', '', '', '', '', '', '', '', '', '', '', '', '', '', '', '', '', '', '', '', '', '', '', '', '', '', ''], 'LEMMA': ['', '', '', '', '', '', '', '', '', '', '', '', '', '', '', '', '', '', '', '', '', '', '', '', '', '', '', '', '', '', '', '', '', '', '', '', '', '', '', '', '', '', '', '', '', '', '', '', '', '', '', '', '', '', '', '', '', '', '', '', '', '', '', '', '', '', '', '', '', '', '', '', '', '', '', '', '', '', '', '', '', ''], 'POS': ['', '', '', '', '', '', '', '', '', '', '', '', '', '', '', '', '', '', '', '', '', '', '', '', '', '', '', '', '', '', '', '', '', '', '', '', '', '', '', '', '', '', '', '', '', '', '', '', '', '', '', '', '', '', '', '', '', '', '', '', '', '', '', '', '', '', '', '', '', '', '', '', '', '', '', '', '', '', '', '', '', ''], 'MORPH': ['', '', '', '', '', '', '', '', '', '', '', '', '', '', '', '', '', '', '', '', '', '', '', '', '', '', '', '', '', '', '', '', '', '', '', '', '', '', '', '', '', '', '', '', '', '', '', '', '', '', '', '', '', '', '', '', '', '', '', '', '', '', '', '', '', '', '', '', '', '', '', '', '', '', '', '', '', '', '', '', '', ''], 'HEAD': [0, 1, 2, 3, 4, 5, 6, 7, 8, 9, 10, 11, 12, 13, 14, 15, 16, 17, 18, 19, 20, 21, 22, 23, 24, 25, 26, 27, 28, 29, 30, 31, 32, 33, 34, 35, 36, 37, 38, 39, 40, 41, 42, 43, 44, 45, 46, 47, 48, 49, 50, 51, 52, 53, 54, 55, 56, 57, 58, 59, 60, 61, 62, 63, 64, 65, 66, 67, 68, 69, 70, 71, 72, 73, 74, 75, 76, 77, 78, 79, 80, 81], 'DEP': ['', '', '', '', '', '', '', '', '', '', '', '', '', '', '', '', '', '', '', '', '', '', '', '', '', '', '', '', '', '', '', '', '', '', '', '', '', '', '', '', '', '', '', '', '', '', '', '', '', '', '', '', '', '', '', '', '', '', '', '', '', '', '', '', '', '', '', '', '', '', '', '', '', '', '', '', '', '', '', '', '', ''], 'SENT_START': [1, 0, 0, 0, 0, 0, 0, 0, 0, 0, 0, 0, 0, 0, 0, 0, 0, 0, 0, 0, 0, 0, 0, 0, 0, 0, 0, 0, 0, 0, 0, 0, 0, 0, 0, 0, 0, 0, 0, 0, 0, 0, 0, 0, 0, 0, 0, 0, 0, 0, 0, 0, 0, 0, 0, 0, 0, 0, 0, 0, 0, 0, 0, 0, 0, 0, 0, 0, 0, 0, 0, 0, 0, 0, 0, 0, 0, 0, 0, 0, 0, 0]}}"
            ]
          },
          "metadata": {},
          "execution_count": 32
        }
      ]
    },
    {
      "cell_type": "code",
      "source": [
        "precision, recall, f1 = evaluate(nlp, validation_examples)\n",
        "\n",
        "print(f\"Model scores | P: {precision:.3f} R: {recall:.3f} F1: {f1:.3f}\")"
      ],
      "metadata": {
        "colab": {
          "base_uri": "https://localhost:8080/"
        },
        "id": "Yma2fvvbIbyc",
        "outputId": "eb0f1a5c-f9b7-4062-f595-2dd3699936fd"
      },
      "execution_count": 33,
      "outputs": [
        {
          "output_type": "stream",
          "name": "stdout",
          "text": [
            "Model scores | P: 0.864 R: 0.864 F1: 0.864\n"
          ]
        }
      ]
    },
    {
      "cell_type": "code",
      "source": [
        "# Save the model to a directory\n",
        "output_dir = \"sentiment_model\"\n",
        "\n",
        "nlp.to_disk(output_dir)\n",
        "\n",
        "print(\"Model saved to\", output_dir)"
      ],
      "metadata": {
        "colab": {
          "base_uri": "https://localhost:8080/"
        },
        "id": "L1U5VsusJvQ-",
        "outputId": "2cfbd7e6-32a1-4b4c-861d-d9d34534fea2"
      },
      "execution_count": 34,
      "outputs": [
        {
          "output_type": "stream",
          "name": "stdout",
          "text": [
            "Model saved to sentiment_model\n"
          ]
        }
      ]
    },
    {
      "cell_type": "code",
      "source": [
        "# Load the model in a new variable\n",
        "nlp2 = spacy.load(output_dir)\n",
        "\n",
        "# Re-evaluate the loaded model on the validation set\n",
        "precision, recall, f1 = evaluate(nlp2, validation_examples)\n",
        "\n",
        "print(f\"Loaded Model | P: {precision:.3f} R: {recall:.3f} F1: {f1:.3f}\")"
      ],
      "metadata": {
        "colab": {
          "base_uri": "https://localhost:8080/"
        },
        "id": "E8RrAh4eKHVX",
        "outputId": "a2f37a63-1316-43fb-b3b5-d8975ba151af"
      },
      "execution_count": 35,
      "outputs": [
        {
          "output_type": "stream",
          "name": "stdout",
          "text": [
            "Loaded Model | P: 0.864 R: 0.864 F1: 0.864\n"
          ]
        }
      ]
    }
  ]
}